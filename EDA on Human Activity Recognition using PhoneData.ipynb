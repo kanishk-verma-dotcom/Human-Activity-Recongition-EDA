{
 "cells": [
  {
   "cell_type": "markdown",
   "metadata": {},
   "source": [
    "# Import and Data Loading"
   ]
  },
  {
   "cell_type": "code",
   "execution_count": 19,
   "metadata": {},
   "outputs": [],
   "source": [
    "import pandas as pd"
   ]
  },
  {
   "cell_type": "markdown",
   "metadata": {},
   "source": [
    "Load file as Numpy Array"
   ]
  },
  {
   "cell_type": "code",
   "execution_count": 9,
   "metadata": {},
   "outputs": [],
   "source": [
    "import numpy as np"
   ]
  },
  {
   "cell_type": "code",
   "execution_count": 7,
   "metadata": {},
   "outputs": [
    {
     "name": "stdout",
     "output_type": "stream",
     "text": [
      "(7352, 128)\n"
     ]
    }
   ],
   "source": [
    "def load_file(filepath):\n",
    "    df = pd.read_csv(filepath, header = None, delim_whitespace = True)\n",
    "    return df.values\n",
    "data = load_file(r'C:\\Users\\Kanishk Verma\\Desktop\\Signal\\Git\\UCI HAR Dataset\\train\\Inertial Signals\\total_acc_y_train.txt')\n",
    "print(data.shape)"
   ]
  },
  {
   "cell_type": "markdown",
   "metadata": {},
   "source": [
    "Loading files as group"
   ]
  },
  {
   "cell_type": "code",
   "execution_count": 10,
   "metadata": {},
   "outputs": [],
   "source": [
    "def load_group(filenames, prefix = ''):\n",
    "    loaded = list()\n",
    "    for name in filenames:\n",
    "        data = load_file(prefix + name)\n",
    "        loaded.append(data)\n",
    "    #dstack so that features are the 3rd dimension\n",
    "    loaded = np.dstack(loaded)\n",
    "    return loaded"
   ]
  },
  {
   "cell_type": "markdown",
   "metadata": {},
   "source": [
    "Load total accelerometer data"
   ]
  },
  {
   "cell_type": "code",
   "execution_count": 14,
   "metadata": {},
   "outputs": [
    {
     "name": "stdout",
     "output_type": "stream",
     "text": [
      "(7352, 128, 3)\n"
     ]
    }
   ],
   "source": [
    "filenames = ['total_acc_x_train.txt', 'total_acc_y_train.txt', 'total_acc_z_train.txt']\n",
    "total_acc = load_group(filenames, prefix = \"C:\\\\Users\\\\Kanishk Verma\\\\Desktop\\\\Signal\\\\Git\\\\UCI HAR Dataset\\\\train\\\\Inertial Signals\\\\\")\n",
    "print(total_acc.shape)"
   ]
  },
  {
   "cell_type": "markdown",
   "metadata": {},
   "source": [
    "Load train and test dataset"
   ]
  },
  {
   "cell_type": "code",
   "execution_count": 53,
   "metadata": {},
   "outputs": [],
   "source": [
    "def load_dataset(group, prefix=''):\n",
    "    filepath = prefix + group + \"\\\\Inertial Signals\\\\\"\n",
    "    # load all 9 files as a single array\n",
    "    filenames = list()\n",
    "    # total acceleration\n",
    "    filenames += ['total_acc_x_'+group+'.txt', 'total_acc_y_'+group+'.txt', 'total_acc_z_'+group+'.txt']\n",
    "    # body acceleration\n",
    "    filenames += ['body_acc_x_'+group+'.txt', 'body_acc_y_'+group+'.txt', 'body_acc_z_'+group+'.txt']\n",
    "    # body gyroscope\n",
    "    filenames += ['body_gyro_x_'+group+'.txt', 'body_gyro_y_'+group+'.txt', 'body_gyro_z_'+group+'.txt']\n",
    "    # load input data\n",
    "    X = load_group(filenames, filepath)\n",
    "    # load class output\n",
    "    y = load_file(prefix + group + '/y_'+group+'.txt')\n",
    "    return X, y"
   ]
  },
  {
   "cell_type": "code",
   "execution_count": 17,
   "metadata": {},
   "outputs": [
    {
     "name": "stdout",
     "output_type": "stream",
     "text": [
      "(7352, 128, 9) (7352, 1)\n"
     ]
    }
   ],
   "source": [
    "trainX, trainy = load_dataset('train', \"C:\\\\Users\\\\Kanishk Verma\\\\Desktop\\\\Signal\\\\Git\\\\UCI HAR Dataset\\\\\")\n",
    "print(trainX.shape, trainy.shape)"
   ]
  },
  {
   "cell_type": "code",
   "execution_count": 18,
   "metadata": {},
   "outputs": [
    {
     "name": "stdout",
     "output_type": "stream",
     "text": [
      "(2947, 128, 9) (2947, 1)\n"
     ]
    }
   ],
   "source": [
    "testX, testy = load_dataset('test', \"C:\\\\Users\\\\Kanishk Verma\\\\Desktop\\\\Signal\\\\Git\\\\UCI HAR Dataset\\\\\")\n",
    "print(testX.shape, testy.shape)"
   ]
  },
  {
   "cell_type": "markdown",
   "metadata": {},
   "source": [
    "# Data Conditioning"
   ]
  },
  {
   "cell_type": "markdown",
   "metadata": {},
   "source": [
    "Check balance of each activity"
   ]
  },
  {
   "cell_type": "code",
   "execution_count": 22,
   "metadata": {},
   "outputs": [],
   "source": [
    "def class_breakdown(data):\n",
    "    df = pd.DataFrame(data)\n",
    "    #number of rows\n",
    "    counts = df.groupby(0).size()\n",
    "    #retrieve raw rows\n",
    "    counts = counts.values\n",
    "    #summarize\n",
    "    for i in range(len(counts)):\n",
    "        percent = counts[i] / len(df) * 100\n",
    "        print('Class=%d, total=%d, percentage =%.3f' %(i+1, counts[i], percent))"
   ]
  },
  {
   "cell_type": "markdown",
   "metadata": {},
   "source": [
    "Training Dataset"
   ]
  },
  {
   "cell_type": "code",
   "execution_count": 23,
   "metadata": {},
   "outputs": [
    {
     "name": "stdout",
     "output_type": "stream",
     "text": [
      "Class=1, total=1226, percentage =16.676\n",
      "Class=2, total=1073, percentage =14.595\n",
      "Class=3, total=986, percentage =13.411\n",
      "Class=4, total=1286, percentage =17.492\n",
      "Class=5, total=1374, percentage =18.689\n",
      "Class=6, total=1407, percentage =19.138\n"
     ]
    }
   ],
   "source": [
    "class_breakdown(trainy)"
   ]
  },
  {
   "cell_type": "markdown",
   "metadata": {},
   "source": [
    "Test dataset"
   ]
  },
  {
   "cell_type": "code",
   "execution_count": 24,
   "metadata": {},
   "outputs": [
    {
     "name": "stdout",
     "output_type": "stream",
     "text": [
      "Class=1, total=496, percentage =16.831\n",
      "Class=2, total=471, percentage =15.982\n",
      "Class=3, total=420, percentage =14.252\n",
      "Class=4, total=491, percentage =16.661\n",
      "Class=5, total=532, percentage =18.052\n",
      "Class=6, total=537, percentage =18.222\n"
     ]
    }
   ],
   "source": [
    "class_breakdown(testy)"
   ]
  },
  {
   "cell_type": "markdown",
   "metadata": {},
   "source": [
    "Summarize as combined"
   ]
  },
  {
   "cell_type": "code",
   "execution_count": 25,
   "metadata": {},
   "outputs": [
    {
     "name": "stdout",
     "output_type": "stream",
     "text": [
      "Class=1, total=1722, percentage =16.720\n",
      "Class=2, total=1544, percentage =14.992\n",
      "Class=3, total=1406, percentage =13.652\n",
      "Class=4, total=1777, percentage =17.254\n",
      "Class=5, total=1906, percentage =18.507\n",
      "Class=6, total=1944, percentage =18.876\n"
     ]
    }
   ],
   "source": [
    "combined = np.vstack((trainy, testy))\n",
    "class_breakdown(combined)"
   ]
  },
  {
   "cell_type": "markdown",
   "metadata": {},
   "source": [
    "# Visualising"
   ]
  },
  {
   "cell_type": "markdown",
   "metadata": {},
   "source": [
    "Grouping data by activity"
   ]
  },
  {
   "cell_type": "code",
   "execution_count": 29,
   "metadata": {},
   "outputs": [],
   "source": [
    "def data_by_activity(X, y, activities):\n",
    "    return {a: X[y[:,0]==a, :, :] for a in activities}"
   ]
  },
  {
   "cell_type": "markdown",
   "metadata": {},
   "source": [
    "Convert series of windows to a 1-dimension list"
   ]
  },
  {
   "cell_type": "code",
   "execution_count": 28,
   "metadata": {},
   "outputs": [],
   "source": [
    "def to_series(windows):\n",
    "    series = list()\n",
    "    for window in windows:\n",
    "        half = int(len(window)/2) - 1\n",
    "        for value in window[-half:]:\n",
    "            series.append(value)\n",
    "    return series"
   ]
  },
  {
   "cell_type": "markdown",
   "metadata": {},
   "source": [
    "Get data for one subject"
   ]
  },
  {
   "cell_type": "code",
   "execution_count": 31,
   "metadata": {},
   "outputs": [],
   "source": [
    "def data_for_subject(X, y, sub_map, sub_id):\n",
    "    # get row indexes for the subject id\n",
    "    ix = [i for i in range(len(sub_map)) if sub_map[i]==sub_id]\n",
    "    # return the selected samples\n",
    "    return X[ix, :, :], y[ix]"
   ]
  },
  {
   "cell_type": "markdown",
   "metadata": {},
   "source": [
    "# Plotting a histogram"
   ]
  },
  {
   "cell_type": "code",
   "execution_count": 43,
   "metadata": {},
   "outputs": [],
   "source": [
    "import matplotlib.pyplot as plt\n",
    "def plot_activity_histograms(X,y):\n",
    "    \n",
    "    activity_ids = unique(y[:,0])\n",
    "    \n",
    "    grouped = data_by_activity(X, y, activity_ids)\n",
    "    \n",
    "    plt.figure()\n",
    "    \n",
    "    xaxis = None\n",
    "    \n",
    "    for k in range(len(activity_ids)):\n",
    "        act_id = activity_ids[k]\n",
    "        \n",
    "        for i in range(3):\n",
    "            ax = plt.subplot(len(activity_ids), 1, k+1, sharex = xaxis)\n",
    "            ax.set_xlim(-1,1)\n",
    "            if k == 0:\n",
    "                xaxis = ax\n",
    "            plt.hist(to_series(grouped[act_id][:, :,6+i]), bins=100)\n",
    "            plt.title('Activity' +str(act_id), y=0, loc = 'left')\n",
    "    plt.show()"
   ]
  },
  {
   "cell_type": "code",
   "execution_count": 32,
   "metadata": {},
   "outputs": [],
   "source": [
    "sub_map = load_file(r\"C:\\Users\\Kanishk Verma\\Desktop\\Signal\\Git\\UCI HAR Dataset\\train\\subject_train.txt\")"
   ]
  },
  {
   "cell_type": "code",
   "execution_count": 33,
   "metadata": {},
   "outputs": [
    {
     "data": {
      "text/plain": [
       "array([[ 1],\n",
       "       [ 1],\n",
       "       [ 1],\n",
       "       ...,\n",
       "       [30],\n",
       "       [30],\n",
       "       [30]], dtype=int64)"
      ]
     },
     "execution_count": 33,
     "metadata": {},
     "output_type": "execute_result"
    }
   ],
   "source": [
    "sub_map"
   ]
  },
  {
   "cell_type": "code",
   "execution_count": 36,
   "metadata": {},
   "outputs": [],
   "source": [
    "from numpy import unique\n",
    "train_subjects = unique(sub_map)"
   ]
  },
  {
   "cell_type": "code",
   "execution_count": 38,
   "metadata": {},
   "outputs": [],
   "source": [
    "sub_id = train_subjects[0]\n",
    "subX, suby = data_for_subject(trainX, trainy, sub_map, sub_id)"
   ]
  },
  {
   "cell_type": "markdown",
   "metadata": {},
   "source": [
    "As seen below each activity has a different data distribution with first three and other three activities\n",
    "First 3 activities look like Normal Distribution with varying means and standard deviations.\n",
    "The activities 4,5,6 looks like multi-modal"
   ]
  },
  {
   "cell_type": "markdown",
   "metadata": {},
   "source": [
    "Activity 1 - Walking;\n",
    "Activity 2 - Walking Upstairs;\n",
    "Activity 3 - Walking Downstairs;\n",
    "Activity 4 - Sitting;\n",
    "Activity 5 - Standing;\n",
    "Activity 6 - Laying;"
   ]
  },
  {
   "cell_type": "code",
   "execution_count": 44,
   "metadata": {},
   "outputs": [
    {
     "data": {
      "image/png": "[encoded data removed]",
      "text/plain": [
       "<Figure size 432x288 with 6 Axes>"
      ]
     },
     "metadata": {
      "needs_background": "light"
     },
     "output_type": "display_data"
    }
   ],
   "source": [
    "plot_activity_histograms(subX,suby)"
   ]
  },
  {
   "cell_type": "markdown",
   "metadata": {},
   "source": [
    "# Plotting a Box plot"
   ]
  },
  {
   "cell_type": "markdown",
   "metadata": {},
   "source": [
    "Plotting one box plot for each activity"
   ]
  },
  {
   "cell_type": "code",
   "execution_count": 46,
   "metadata": {},
   "outputs": [],
   "source": [
    "def boxplt(X, y, sub_map):\n",
    "    subject_ids = unique(sub_map[:,0])\n",
    "    activity_ids = unique(y[:,0])\n",
    "    \n",
    "    activity_windows = {a: list() for a in activity_ids}\n",
    "    \n",
    "    for sub_id in subject_ids:\n",
    "        _, subj_y = data_for_subject(X, y, sub_map, sub_id)\n",
    "        \n",
    "        for a in activity_ids:\n",
    "            activity_windows[a].append(len(subj_y[subj_y[:,0]==a]))\n",
    "\n",
    "    durations = [activity_windows[a] for a in activity_ids]\n",
    "    \n",
    "    plt.boxplot(durations,labels = activity_ids)\n",
    "    \n",
    "    plt.show()"
   ]
  },
  {
   "cell_type": "code",
   "execution_count": 56,
   "metadata": {},
   "outputs": [],
   "source": [
    "X, y = load_dataset('train', \"C:\\\\Users\\\\Kanishk Verma\\\\Desktop\\\\Signal\\\\Git\\\\UCI HAR Dataset\\\\\")"
   ]
  },
  {
   "cell_type": "markdown",
   "metadata": {},
   "source": [
    "As seen below, Less time is spent on motion activities  like Walking, Walking Upstairs and Downstairs."
   ]
  },
  {
   "cell_type": "markdown",
   "metadata": {},
   "source": [
    "More time is spent on stationary activities like Sitting, Standing and Laying"
   ]
  },
  {
   "cell_type": "code",
   "execution_count": 57,
   "metadata": {},
   "outputs": [
    {
     "data": {
      "image/png": "[encoded data removed]",
      "text/plain": [
       "<Figure size 432x288 with 1 Axes>"
      ]
     },
     "metadata": {
      "needs_background": "light"
     },
     "output_type": "display_data"
    }
   ],
   "source": [
    "boxplt(X, y, sub_map)"
   ]
  },
  {
   "cell_type": "code",
   "execution_count": null,
   "metadata": {},
   "outputs": [],
   "source": []
  }
 ],
 "metadata": {
  "kernelspec": {
   "display_name": "Python 3",
   "language": "python",
   "name": "python3"
  },
  "language_info": {
   "codemirror_mode": {
    "name": "ipython",
    "version": 3
   },
   "file_extension": ".py",
   "mimetype": "text/x-python",
   "name": "python",
   "nbconvert_exporter": "python",
   "pygments_lexer": "ipython3",
   "version": "3.7.3"
  }
 },
 "nbformat": 4,
 "nbformat_minor": 2
}
